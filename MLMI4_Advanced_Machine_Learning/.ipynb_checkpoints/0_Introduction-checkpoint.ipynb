{
 "cells": [
  {
   "cell_type": "markdown",
   "metadata": {},
   "source": [
    "# MLMI4: Advanced Machine Learning\n",
    "\n",
    "Lecturer: Dr. Richard E. Turner, Dr. Miguel Hernandez Lobato and Dr. Adrian Weller\n",
    "\n",
    "# Table of Contents\n",
    ">## 1. Non-linear Dimensionality Reduction\n",
    "* 1.1. Introduction\n",
    "* 1.2. DR via Distance"
   ]
  }
 ],
 "metadata": {
  "kernelspec": {
   "display_name": "Python 3",
   "language": "python",
   "name": "python3"
  },
  "language_info": {
   "codemirror_mode": {
    "name": "ipython",
    "version": 3
   },
   "file_extension": ".py",
   "mimetype": "text/x-python",
   "name": "python",
   "nbconvert_exporter": "python",
   "pygments_lexer": "ipython3",
   "version": "3.6.4"
  }
 },
 "nbformat": 4,
 "nbformat_minor": 2
}
