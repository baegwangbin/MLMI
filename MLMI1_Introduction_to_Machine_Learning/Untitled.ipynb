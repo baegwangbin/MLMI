{
 "cells": [
  {
   "cell_type": "markdown",
   "metadata": {},
   "source": [
    "* **Mean and variance of $p(a)$**:\n",
    "\n",
    ">\\begin{align}\n",
    "\\mu_a &= \\int a p(a) da = \\int a \\int \\delta(a - \\mathbf{w}^\\top\\mathbf{x}) q(\\mathbf{w}) d\\mathbf{w} da = \\int  \\mathbf{w}^\\top\\mathbf{x} q(\\mathbf{w}) d\\mathbf{w} = \\mathbf{w}_{MAP}^\\top\\mathbf{x}\\\\\n",
    "~\\\\\n",
    "\\sigma_a^2 &= \\int \\big(a^2 - \\mu_a^2\\big)p(a) da = \\int \\big(a^2 - \\mu_a^2\\big)\\delta(a - \\mathbf{w}^\\top\\mathbf{x})q(\\mathbf{w}) d\\mathbf{w} da \\\\\n",
    "&= \\int \\big((\\mathbf{w}^\\top\\mathbf{x})^2 - (\\mathbf{w}_{MAP}^\\top\\mathbf{x})^2\\big)q(\\mathbf{w}) d\\mathbf{w}\\\\\n",
    "&= \\int (\\mathbf{w}^\\top\\mathbf{x})^2 q(\\mathbf{w}) d\\mathbf{w} - \\mathbf{x}^\\top\\mathbf{w}_{MAP}\\mathbf{w}_{MAP}^\\top\\mathbf{x}\\\\\n",
    "&= \\mathbf{x}^\\top \\bigg[\\int\\mathbf{w}\\mathbf{w}^\\top q(\\mathbf{w}) d\\mathbf{w} \\bigg]\\mathbf{x} - \\mathbf{x}^\\top\\mathbf{w}_{MAP}\\mathbf{w}_{MAP}^\\top\\mathbf{x}\\\\\n",
    "&= \\mathbf{x}^\\top\\bigg[\\mathbf{w}_{MAP}\\mathbf{w}_{MAP}^\\top + \\Sigma \\bigg] \\mathbf{x} - \\mathbf{x}^\\top\\mathbf{w}_{MAP}\\mathbf{w}_{MAP}^\\top\\mathbf{x}\\\\\n",
    "&= \\mathbf{x}^\\top\\Sigma\\mathbf{x}\n",
    "\\end{align}\n",
    ">$$\\;$$\n",
    ">* Therefore $p(a) = \\mathcal{N}(a; \\mathbf{w}_{MAP}, \\mathbf{x}^\\top\\Sigma\\mathbf{x})$\n",
    ">* Still the integral $\\int \\sigma(a)\\mathcal{N}(a; \\mathbf{w}_{MAP}, \\mathbf{x}^\\top\\Sigma\\mathbf{x})da$ is the convolution of a sigmoid with a gaussian and cannot be evaluated explicitly, so another approximation must be made. \n",
    "\n",
    "* **Approximate the sigmoid using the probit function**:\n",
    "\n",
    ">$$\\sigma(a) \\approx \\Phi(\\lambda a) = \\int_{-\\infty}^{\\lambda a} \\mathcal{N}(z|0, 1) dz$$\n",
    ">$$\\;$$\n",
    ">* The scaling constant $\\lambda$ is picked such that the gradients of $\\sigma(a)$ and $\\Phi(\\lambda a)$ are equal at the origin:\n",
    "\n",
    "* **Predictive Distribution Integral**\n",
    "\n",
    ">* Under this approximation, it can be shown that the predictive distribution integral is equal to another scaled probit:\n",
    ">$$\\;$$\n",
    ">\\begin{align}\n",
    "\\int \\sigma(a)\\mathcal{N}(a; \\mu, \\sigma^2)da &\\approx \\int \\Phi(\\lambda a)\\mathcal{N}(a; \\mu, \\sigma^2)da\\\\\n",
    "&= \\Phi\\Bigg(\\frac{\\mu}{(\\lambda^{-2} + \\sigma^2)^{1/2}}\\Bigg), \\text{ where } \\mu = \\mathbf{w}_{MAP}^\\top \\mathbf{x}, ~\\sigma^2 = \\mathbf{x}^\\top\\Sigma\\mathbf{x}\\\\\n",
    "\\end{align}"
   ]
  }
 ],
 "metadata": {
  "kernelspec": {
   "display_name": "Python 3",
   "language": "python",
   "name": "python3"
  },
  "language_info": {
   "codemirror_mode": {
    "name": "ipython",
    "version": 3
   },
   "file_extension": ".py",
   "mimetype": "text/x-python",
   "name": "python",
   "nbconvert_exporter": "python",
   "pygments_lexer": "ipython3",
   "version": "3.6.4"
  }
 },
 "nbformat": 4,
 "nbformat_minor": 2
}
