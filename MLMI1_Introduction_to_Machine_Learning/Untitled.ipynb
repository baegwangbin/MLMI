{
 "cells": [
  {
   "cell_type": "markdown",
   "metadata": {},
   "source": [
    "# 7. Sequence Modelling\n",
    "\n",
    "## 7.1. Markov Models\n",
    "\n",
    "* **1st Order**\n",
    "\n",
    ">$$y_{t+1} \\perp y_{1:t-1}|y_t$$\n",
    "\n",
    ">$$p(y_{1:T}) = p(y_1)p(y_2|y_1)p(y_3|y_2)...p(y_T|y_{T-1})$$\n",
    "\n",
    "* **2nd Order**\n",
    "\n",
    ">$$p(y_{1:T}) = p(y_1)p(y_2|y_1)p(y_3|y_2,y_1)...p(y_T|y_{T-1},y_{T-2})$$\n",
    "\n",
    "## 7.2. N-gram Models (discrete data)\n",
    "\n",
    "* **Bi-gram** (1st Order)\n",
    "\n",
    ">* Discrete States: $y_t \\in \\{1,...,K\\}$\n",
    ">* Initial state probabilities: $p(y_1=k)=\\pi_k^0$\n",
    ">* Transition probabilities: $p(y_t=k|y_{t-1}=l)=T_{k,l} \\rightarrow \\sum^K_{k=1} T_{k,l} = 1$\n",
    "\n",
    "* **Marginal Distribution**\n",
    "\n",
    ">$$p(y_2=k)=\\sum^K_{l=1} p(y_2=k|y_1=l)p(y_l=1)=\\sum^K_{l=1} T_{k,l} \\pi_l^0$$\n",
    "\n",
    "* **Stationary Distribution**: eigenvector of $T$ with eigenvalue = 1\n",
    "\n",
    ">\\begin{align}\n",
    "p(y_t=k) &= \\sum^K_{l=1} p(y_t=k|y_{t-1}=l)p(y_{t-1}=l)\\\\\n",
    "\\pi^\\infty_k &= \\sum^K_{l=1} T_{k,l} \\pi^\\infty_l\n",
    "\\end{align}\n",
    "\n",
    "* **Tri-gram** (2nd Order))\n",
    "\n",
    ">$$p(y_t=k|y_{t-1}=l, y_{t-2}=m)=T_{k,l,m}$$"
   ]
  }
 ],
 "metadata": {
  "kernelspec": {
   "display_name": "Python 3",
   "language": "python",
   "name": "python3"
  },
  "language_info": {
   "codemirror_mode": {
    "name": "ipython",
    "version": 3
   },
   "file_extension": ".py",
   "mimetype": "text/x-python",
   "name": "python",
   "nbconvert_exporter": "python",
   "pygments_lexer": "ipython3",
   "version": "3.6.4"
  }
 },
 "nbformat": 4,
 "nbformat_minor": 2
}
