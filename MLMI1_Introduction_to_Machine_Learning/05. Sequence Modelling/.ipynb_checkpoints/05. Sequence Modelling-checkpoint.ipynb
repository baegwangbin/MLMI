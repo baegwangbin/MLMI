{
 "cells": [
  {
   "cell_type": "markdown",
   "metadata": {},
   "source": [
    "# 1. Markov Models\n",
    "* ***Conditional independence relationship + Product rule***\n",
    "\n",
    "## 1.1. Markov Models\n",
    "\n",
    "* **1st Order**\n",
    "\n",
    ">$$y_{t+1} \\perp y_{1:t-1}|y_t$$\n",
    "\n",
    ">$$p(y_{1:T}) = p(y_1)p(y_2|y_1)p(y_3|y_2)...p(y_T|y_{T-1})$$\n",
    "\n",
    "* **2nd Order**\n",
    "\n",
    ">$$p(y_{1:T}) = p(y_1)p(y_2|y_1)p(y_3|y_2,y_1)...p(y_T|y_{T-1},y_{T-2})$$\n",
    "\n",
    "\n",
    "\n",
    "## 1.2. N-gram Models (Discrete data)\n",
    "\n",
    "* **Bi-gram (1st Order)**\n",
    "\n",
    "><img src=\"images/image01.png\">\n",
    "\n",
    "* **Tri-gram (2nd Order)**\n",
    "\n",
    "><img src=\"images/image02.png\">\n",
    "\n",
    "* **Questions about N-gram Models**\n",
    "\n",
    "><img src=\"images/image03.png\">"
   ]
  },
  {
   "cell_type": "markdown",
   "metadata": {},
   "source": [
    "## 1.3. AR Gaussian Models (Continuous data)\n",
    "* **AR: Auto-Regressive**\n",
    "* **AR(1)**\n",
    "\n",
    "><img src=\"images/image04.png\">\n",
    "\n",
    "* **AR(2)**\n",
    "\n",
    "><img src=\"images/image05.png\">\n",
    "\n",
    "* **Stationary Distribution for AR(1)**\n",
    "\n",
    "><img src=\"images/image06.png\">"
   ]
  }
 ],
 "metadata": {
  "kernelspec": {
   "display_name": "Python 3",
   "language": "python",
   "name": "python3"
  },
  "language_info": {
   "codemirror_mode": {
    "name": "ipython",
    "version": 3
   },
   "file_extension": ".py",
   "mimetype": "text/x-python",
   "name": "python",
   "nbconvert_exporter": "python",
   "pygments_lexer": "ipython3",
   "version": "3.6.4"
  }
 },
 "nbformat": 4,
 "nbformat_minor": 2
}
