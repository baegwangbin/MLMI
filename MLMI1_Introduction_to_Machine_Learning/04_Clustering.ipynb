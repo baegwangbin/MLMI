{
 "cells": [
  {
   "cell_type": "markdown",
   "metadata": {},
   "source": [
    "# 4. Clustering"
   ]
  },
  {
   "cell_type": "markdown",
   "metadata": {},
   "source": [
    "## 4.1. K-means Algorithm\n",
    "\n",
    "* **Algorithm**\n",
    "\n",
    ">* **Step 1:** Initialise: $\\boldsymbol{m}_k \\in \\mathbb{R}^D$\n",
    ">* **Step 2:** $s_n={\\text{argmin}_k} ||\\boldsymbol{x}_n - \\boldsymbol{m}_k|| $\n",
    ">* **Step 3:** $\\boldsymbol{m}_k = \\text{mean}(\\boldsymbol{x}_n : s_n=k)$\n",
    ">* Continue until $s_n$ converge"
   ]
  },
  {
   "cell_type": "markdown",
   "metadata": {},
   "source": [
    "## 4.2. K-means as Optimisation\n",
    "\n",
    "* **Cost fn.** (Lyupanov function - converges but hard to find **global optimum**)\n",
    "\n",
    ">$$\\mathcal{C}(\\{s_{n,k}\\},\\{\\boldsymbol{m}_k\\})=\\sum^N_{n=1} \\sum^K_{k=1} s_{n,k} \\;||\\boldsymbol{x}_n-\\boldsymbol{m}_k||^2$$\n",
    "\n",
    ">$$\\text{where}\\;\\;\\;\\sum^K_{k=1} s_{n,k} = 1 \\;\\;\\;\\text{and}\\;\\;\\; s_{n,k}\\in\\{0,1\\}$$\n",
    "\n",
    "* **K-means as Optimisation**\n",
    "\n",
    ">1. Minimise $\\mathcal{C}$ w.r.t. $\\{s_{n,k}\\}$, holding $\\{\\boldsymbol{m}_k\\}$ fixed\n",
    ">2. Minimise $\\mathcal{C}$ w.r.t. $\\{\\boldsymbol{m}_k\\}$, holding $\\{s_{n,k}\\}$ fixed"
   ]
  },
  {
   "cell_type": "markdown",
   "metadata": {},
   "source": [
    "## 4.3. K++ means\n",
    "\n",
    "* **Algorithm to select initial centroids** (set $M$: store centroid)\n",
    "\n",
    ">1. Randomly select $\\mu_0$, and put it in $M$\n",
    ">2. For $x_i \\notin M$, calculate $d(M, x_i)$ ($\\mu_k$ that minimizes $d(\\mu_k, x_i)$ is the class of $x_i$)\n",
    ">3. Select the next $\\mu$, based on pmf proportional to $d(M, x_i)$\n",
    ">4. Repeat until $K$ centroids are selected"
   ]
  }
 ],
 "metadata": {
  "kernelspec": {
   "display_name": "Python 3",
   "language": "python",
   "name": "python3"
  },
  "language_info": {
   "codemirror_mode": {
    "name": "ipython",
    "version": 3
   },
   "file_extension": ".py",
   "mimetype": "text/x-python",
   "name": "python",
   "nbconvert_exporter": "python",
   "pygments_lexer": "ipython3",
   "version": "3.6.4"
  }
 },
 "nbformat": 4,
 "nbformat_minor": 2
}
