{
 "cells": [
  {
   "cell_type": "markdown",
   "metadata": {},
   "source": [
    "# 1. Leibniz's rule\n",
    "\n",
    "$$\n",
    "\\frac{d}{dx} \\left( \\int_{a(x)}^{b(x)} f(x,t)dt \\right)=f(x,b(x)) \\cdot \\frac{d}{dx}b(x)-f(x,a(x))\\cdot\\frac{d}{dx}a(x)+\\int_{a(x)}^{b(x)} \\frac{\\partial}{\\partial x}f(x,t)dt\n",
    "$$\n",
    "\n",
    "* If $a(x)$ and $b(x)$ are constants rather than functions of $x$,\n",
    "\n",
    "$$\n",
    "\\frac{d}{dx} \\left( \\int_{a}^{b} f(x,t)dt \\right)=\\int_{a}^{b} \\frac{\\partial}{\\partial x}f(x,t)dt\n",
    "$$"
   ]
  }
 ],
 "metadata": {
  "kernelspec": {
   "display_name": "Python 3",
   "language": "python",
   "name": "python3"
  },
  "language_info": {
   "codemirror_mode": {
    "name": "ipython",
    "version": 3
   },
   "file_extension": ".py",
   "mimetype": "text/x-python",
   "name": "python",
   "nbconvert_exporter": "python",
   "pygments_lexer": "ipython3",
   "version": "3.6.4"
  }
 },
 "nbformat": 4,
 "nbformat_minor": 2
}
