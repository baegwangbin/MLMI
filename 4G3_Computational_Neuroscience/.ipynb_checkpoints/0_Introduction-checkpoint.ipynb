{
 "cells": [
  {
   "cell_type": "markdown",
   "metadata": {},
   "source": [
    "# 4G3: Computational Neuroscience\n",
    "\n",
    "Lecturer: Prof. Máté Lengyel, Dr. Guillaume Hennequin and Dr. Timothy O'Leary\n",
    "\n",
    "----\n",
    "\n",
    "# Table of Contents\n",
    "\n",
    "## 1. Reinforcement Learning\n",
    "\n"
   ]
  },
  {
   "cell_type": "markdown",
   "metadata": {},
   "source": [
    "## 0. Introduction\n",
    "\n",
    "* **What is Neuroscience?**\n",
    "\n",
    ">* Scientific study of the brain and nervous system\n",
    ">* Particularly interested in the **product of brain: mind**\n",
    "\n",
    "* **Focus of this Module**\n",
    "\n",
    ">* **Neural Activities**\n",
    "><img src='images/image0_01.png'>\n",
    "\n",
    ">* **Brain Structure**\n",
    "><img src='images/image0_02.png' width=600>\n",
    "\n",
    "* **Cortex vs CPU**\n",
    "\n",
    ">* When unfolded, cortex is roughly about **0.5cm in thickness** and **30cm in radius**\n",
    "\n",
    ">|$1mm^3$ of Cortex|$1mm^2$ of CPU|\n",
    "|-|-|\n",
    "|50,000 neurons|1 million transistors|\n",
    "|10,000 connections/neuron|3 connections/transistor|\n",
    "|4km of axons|0.003km of wire|\n",
    "\n",
    "* **Neural Codes**\n",
    "\n",
    ">* How is neural activity related to cognitive relevant variables?\n",
    "\n",
    ">* Examples:\n",
    ">  * Primal visual cortex, $V1$ - orientation of the object\n",
    ">  * Motor cortex, $M1$ - direction of movement\n",
    ">  * Hippocampus - place cells: spatial location **(abstract knowledge)**\n",
    ">  * lateral intraparietal cortex - expected reward **(abstract knowledge)** \n",
    "\n",
    "* **Levels of Analysis** (by David Marr)\n",
    "\n",
    ">1. **Computational level:** what does the system do (e.g.: what problems does it solve or overcome) and similarly, why does it do these things\n",
    ">1. **Algorithmic/representational level:** how does the system do what it does, specifically, what representations does it use and what processes does it employ to build and manipulate the representations\n",
    ">1. **Implementational/physical level:** how is the system physically realised (in the case of biological vision, what neural structures and neuronal activities implement the visual system)\n",
    "\n"
   ]
  },
  {
   "cell_type": "code",
   "execution_count": null,
   "metadata": {},
   "outputs": [],
   "source": []
  }
 ],
 "metadata": {
  "kernelspec": {
   "display_name": "Python 3",
   "language": "python",
   "name": "python3"
  },
  "language_info": {
   "codemirror_mode": {
    "name": "ipython",
    "version": 3
   },
   "file_extension": ".py",
   "mimetype": "text/x-python",
   "name": "python",
   "nbconvert_exporter": "python",
   "pygments_lexer": "ipython3",
   "version": "3.6.4"
  }
 },
 "nbformat": 4,
 "nbformat_minor": 2
}
