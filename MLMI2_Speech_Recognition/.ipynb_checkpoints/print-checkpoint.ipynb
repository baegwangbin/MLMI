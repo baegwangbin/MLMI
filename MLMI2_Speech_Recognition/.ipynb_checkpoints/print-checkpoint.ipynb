{
 "cells": [
  {
   "cell_type": "markdown",
   "metadata": {},
   "source": [
    "# 2. Spectral Analysis"
   ]
  },
  {
   "cell_type": "markdown",
   "metadata": {},
   "source": [
    "## 2.1. Quasi-Stationarity\n",
    "* **Assumption**: speech is stationary over a **short interval** $(10\\;\\text{~}\\;20\\;\\text{ms})$\n",
    "\n",
    "  * Too short $\\rightarrow$ insufficient time to determine properties\n",
    "  * Too long $\\rightarrow$ approximation becomes invalid"
   ]
  },
  {
   "cell_type": "markdown",
   "metadata": {},
   "source": [
    "## 2.2. Digital Signals\n",
    "\n",
    ">$$\\text{Analog} \\rightarrow \\text{Digital}$$\n",
    ">\n",
    ">* **Step 1: Low-pass filter** (remove $f>0.5\\;f_{sampling}$: **Nyquist's theorem**)\n",
    ">* **Step 2: Sampling** (discretisation in time)\n",
    ">  * High Quality: $16\\text{kHz}$ / Normal Quality: $8\\text{kHz}$\n",
    ">* **Step 3: ADC** (discretisation in amplitude)\n",
    ">  * High Quality: $16\\text{bits/sample}$ / Normal Quality: $8\\text{bits/sample}$\n",
    ">  * Output ranges from $-2^{Q-1}, ... , 2^{Q-1}-1$"
   ]
  },
  {
   "cell_type": "markdown",
   "metadata": {},
   "source": [
    "## 2.3. Windowing\n",
    "* DFT assumes periodicity $\\rightarrow$ **Discontinuity** $\\rightarrow$ Undesired high-frequency\n",
    "\n",
    "><img src=\"images/image03.png\", width=400>\n",
    "\n",
    "* **Hamming Window**\n",
    "  * Attenuates the discontinuity **but** also smears the spectral peaks\n",
    "\n",
    ">$$w(nT)=0.54-0.46\\cos{ \\left[ \\frac{2\\pi n}{N-1} \\right] }$$\n",
    "\n",
    "* **Block Processing**\n",
    "  * Allow overlap between windows\n",
    "  * Typically) Frame: $10\\text{ms}$ & Windows: $25\\text{ms}$"
   ]
  },
  {
   "cell_type": "markdown",
   "metadata": {},
   "source": [
    "## 2.4. Fourier Transform\n",
    "* **Fourier Analysis**\n",
    "\n",
    ">* **Periodic Signal of $f_0$**: constructed by sinusoids of $f_0, 2f_0, 3f_0, ...$\n",
    "\n",
    ">  * $f_0$: fundamental frequency\n",
    ">  * $nf_0 (n>1)$: harmonics\n",
    "\n",
    ">* **Aperiodic & Stochastic Signal**: spectrum which is a continuous function of frequency\n",
    "\n",
    "* **Fourier Transform**\n",
    "\n",
    "><img src=\"images/image04.png\", width=500>\n",
    "\n",
    "* **FFT - Fast Fourier Transform**\n",
    "\n",
    ">$$\\mathcal{O}(N^2) \\rightarrow \\mathcal{O}(N\\log N)$$\n",
    ">\n",
    ">* Makes use of the symmetry\n",
    ">* Requires the window to be a power of 2 samples in size\n",
    ">* This can be achieved by appropriate choice of analysis size and/or zero-padding (after windowing) the frame to a power of 2"
   ]
  },
  {
   "cell_type": "markdown",
   "metadata": {},
   "source": [
    "## 2.5. DFT - Discrete Fourier Transform\n",
    "* **Cosine Correlation**\n",
    "\n",
    ">$$c(\\Omega)=\\sum^{N-1}_{n=0}{s(nT)\\cos{\\left(\\frac{2\\pi np}{N}\\right)}}\\;\\;\\;,\\;\\;\\;p=0,1,...,N-1$$\n",
    "\n",
    "* **Sine Correlation**\n",
    "\n",
    ">$$s(\\Omega)=\\sum^{N-1}_{n=0}{s(nT)\\sin{\\left(\\frac{2\\pi np}{N}\\right)}}\\;\\;\\;,\\;\\;\\;p=0,1,...,N-1$$\n",
    "\n",
    "* **Amplitude & Phase**\n",
    "\n",
    ">$$a_p=\\sqrt{c^2(\\Omega)+s^2(\\Omega)} \\;\\;\\; , \\;\\;\\; \\phi_p=\\tan^{-1}\\left[\\frac{s(\\Omega)}{c(\\Omega)}\\right]$$"
   ]
  },
  {
   "cell_type": "markdown",
   "metadata": {},
   "source": [
    "## 2.6. Complex Formulation of DFT\n",
    "\n",
    "\n",
    "* **DFT**\n",
    "\n",
    ">\\begin{align}\n",
    "S_p&=\\sum^{N-1}_{n=0}{s(nT)\\left[\\cos{\\left(\\frac{2\\pi np}{N}\\right)}-j\\sin{\\left(\\frac{2\\pi np}{N}\\right)}\\right]}\\\\\n",
    "&=\\sum^{N-1}_{n=0}{s(nT) e^{-j\\left(\\frac{2\\pi np}{N}\\right)}}\\;\\;\\;,\\;\\;\\;p=0,1,...,N-1\n",
    "\\end{align}\n",
    "\n",
    "* **Inverse DFT**\n",
    "\n",
    ">$$s(nT)=\\frac{1}{N}\\sum^{N-1}_{p=0}{S_p e^{j\\left(\\frac{2\\pi np}{N}\\right)}}\\;\\;\\;,\\;\\;\\;n=0,1,...,N-1$$"
   ]
  },
  {
   "cell_type": "markdown",
   "metadata": {},
   "source": [
    "## 2.7. Spectral Properties of Speech\n",
    "\n",
    "* **Vowel** (iy)\n",
    "\n",
    "><img src=\"images/image05.png\", width=400>\n",
    ">\n",
    ">* **Time domain**: approximately **periodic** with $f_0=130\\text{Hz}$\n",
    ">* **Frequency domain**: corresponding periodic excitation $(\\text{~}7.5\\;\\text{cycles/1000Hz})$\n",
    "\n",
    "* **Fricative** (s)\n",
    "\n",
    "><img src=\"images/image06.png\", width=400>\n",
    ">\n",
    ">* **Time domain**: no periodicity\n",
    ">* **Frequency domain**: random variations at much higher frequency"
   ]
  },
  {
   "cell_type": "markdown",
   "metadata": {},
   "source": [
    "## 2.8. Spectral Features of Sounds\n",
    "\n",
    "* **Vowels**\n",
    "\n",
    ">* Characterised by the first 3 **formants**\n",
    ">* Following is a simple relationship\n",
    "\n",
    ">||Tongue Front|Tongue Back|\n",
    "|-|-|-|\n",
    "|**High Jaw**|$F_1$ Low, $F_2$ High|$F_1$ Low, $F_2$ Low|\n",
    "|**Low Jaw**|$F_1$ High, $F_2$ High|$F_1$ High, $F_2$ Low|\n",
    "\n",
    "* **Consonantss**\n",
    "\n",
    ">* **Liquids**\n",
    ">  * Characterised by formant position & dynamics\n",
    ">  * Overall energy is lower than for vowels\n",
    "\n",
    ">* **Nasals**\n",
    ">  * Strong low $F_1$ around $250\\text{Hz}$ and weak higher formants\n",
    ">  * Often energy around $2.5\\text{kHz}$\n",
    "\n",
    ">* **Fricatives**\n",
    ">  * Most energy in higher frequencies\n",
    ">  * Voiced fricatives show weak formant structure\n",
    "\n",
    ">* **Stops**\n",
    ">  * Characterised by silence,\n",
    ">  * Optionally followed by a burst of high energy"
   ]
  },
  {
   "cell_type": "markdown",
   "metadata": {},
   "source": [
    "## 2.9. Spectrograms\n",
    "* Dimensions: **time & frequency**\n",
    "* Intensity of image: **spectral energy**\n",
    "\n",
    "><img src=\"images/image07.png\", width=400>\n",
    ">\n",
    ">||Short window|Wide window|\n",
    "|-|-|-|\n",
    "|Time resolution|Good|Poor|\n",
    "|Frequency resolution|Poor|Good|\n",
    "||(vertical lines)|(horizontal lines)|\n",
    "|Band|Wide|Narrow|\n",
    "||(pitch periods visible)|(harmonics of $f_0$ visible)|"
   ]
  },
  {
   "cell_type": "code",
   "execution_count": null,
   "metadata": {},
   "outputs": [],
   "source": []
  }
 ],
 "metadata": {
  "kernelspec": {
   "display_name": "Python 3",
   "language": "python",
   "name": "python3"
  },
  "language_info": {
   "codemirror_mode": {
    "name": "ipython",
    "version": 3
   },
   "file_extension": ".py",
   "mimetype": "text/x-python",
   "name": "python",
   "nbconvert_exporter": "python",
   "pygments_lexer": "ipython3",
   "version": "3.6.4"
  }
 },
 "nbformat": 4,
 "nbformat_minor": 2
}
