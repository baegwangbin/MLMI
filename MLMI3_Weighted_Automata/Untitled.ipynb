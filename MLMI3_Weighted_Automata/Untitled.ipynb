{
 "cells": [
  {
   "cell_type": "markdown",
   "metadata": {},
   "source": [
    "## 5.3. Distance Computation\n",
    "\n",
    "* **Tropical Arithmetic and Dynamic Programming**\n",
    "\n",
    ">* Addition and Multiplication\n",
    "\n",
    ">$$x \\oplus y = \\min(x,y) \\;\\;\\;,\\;\\;\\; x \\otimes y = x+y$$\n",
    "\n",
    ">* Exponentiation\n",
    "\n",
    ">$$(x \\oplus y)^n = x^n \\oplus y^n$$\n",
    "\n",
    ">* Matrix and vector operations\n",
    "\n",
    ">$$(u_1,u_2,u_3) \\otimes (v_1,v_2,v_3)^T = u_1 \\otimes v_1 \\oplus u_2 \\otimes v_2 \\oplus u_3 \\otimes v_3 = \\min \\{ u_1+v_1, u_2+v_2, u_3+v_3 \\}$$\n",
    "\n",
    "* **Shortest Paths in a Weighted Directed Graph**\n",
    "\n",
    ">* **Adjacency matrix**\n",
    "\n",
    ">$$D_G = [d_{i,j}] \\;\\;\\;,\\;\\;\\; d_{i,j}:\\text{distance}$$\n",
    "\n",
    ">* $D_G^{\\otimes n-1}$: $n \\times n$ matrix with entries in $\\mathbb{R}_{\\geq 0} \\cup \\{+\\infty\\}$\n",
    ">* **Proposition:** entry of $[D_G^{\\otimes n-1}]_{i,j}$: length of the shortest path from node $i$ to node $j$"
   ]
  },
  {
   "cell_type": "markdown",
   "metadata": {},
   "source": [
    "## 5.4. Inference Functions\n",
    "\n",
    ">* **Inference function** maps an observation to an explanation\n",
    "\n",
    "><img src = 'images/image15.png' width = 500>\n",
    "\n",
    "><img src = 'images/image16.png' width = 500>\n"
   ]
  }
 ],
 "metadata": {
  "kernelspec": {
   "display_name": "Python 3",
   "language": "python",
   "name": "python3"
  },
  "language_info": {
   "codemirror_mode": {
    "name": "ipython",
    "version": 3
   },
   "file_extension": ".py",
   "mimetype": "text/x-python",
   "name": "python",
   "nbconvert_exporter": "python",
   "pygments_lexer": "ipython3",
   "version": "3.6.4"
  }
 },
 "nbformat": 4,
 "nbformat_minor": 2
}
