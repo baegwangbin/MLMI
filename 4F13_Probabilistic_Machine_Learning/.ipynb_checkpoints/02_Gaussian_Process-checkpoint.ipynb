{
 "cells": [
  {
   "cell_type": "markdown",
   "metadata": {},
   "source": [
    "# Table of Contents\n",
    "\n",
    ">## 2. Gaussian Process\n",
    "* 2.1. Gaussian Distribution\n",
    "* 2.2. Gaussian Process\n",
    "* 2.3. Posterior Gaussian Process"
   ]
  },
  {
   "cell_type": "markdown",
   "metadata": {},
   "source": [
    "# 2. Gaussian Process\n",
    "\n",
    "* **Basic Idea:**\n",
    "\n",
    ">* In a parametric model, the model is represented using **parameters**\n",
    ">* But, parameters are **nuisance**\n",
    ">* The aim is to work directly in the **space of functions**\n",
    ">  * **Step 1.** Set up a model in terms of parameters\n",
    ">  * **Step 2.** Marginalise out the parameters"
   ]
  },
  {
   "cell_type": "markdown",
   "metadata": {},
   "source": [
    "## 2.1. Gaussian Distribution\n",
    "\n",
    "* **Univariate:**\n",
    "\n",
    ">$$p(x|\\mu,\\sigma^2)=(2\\pi\\sigma^2)^{-1/2}\\exp{\\left( -\\frac{1}{2\\sigma^2} (x-\\mu)^2 \\right)}$$\n",
    "\n",
    "* **Multivariate:**\n",
    "\n",
    ">$$p(\\mathbf{x|μ,Σ})=\\det{(2\\pi\\mathbf{Σ})}^{-1/2}\\exp{ \\left( -\\frac{1}{2}(\\mathbf{x-μ})^T\\mathbf{Σ}^{-1}(\\mathbf{x-μ})\\right) }$$\n",
    "\n",
    "* **Conditionals and Marginals are also Gaussian:**\n",
    "\n",
    "><img src=\"images/image04.png\" width=600>\n",
    "\n",
    "* **Algebra:**\n",
    "\n",
    ">$$p(\\mathbf{x,y})=p \\left( \\begin{bmatrix} \\mathbf{x} \\\\ \\mathbf{y} \\end{bmatrix} \\right) = \\mathcal{N} \\left( \\begin{bmatrix} \\mathbf{a} \\\\ \\mathbf{b} \\end{bmatrix} , \\begin{bmatrix} \\mathbf{A} & \\mathbf{B} \\\\ \\mathbf{B}^T & \\mathbf{C} \\end{bmatrix} \\right)$$\n",
    ">$$\\;$$\n",
    ">$$\\Rightarrow p(\\mathbf{x})=\\mathcal{N}(\\mathbf{a,A})$$\n",
    ">$$\\;$$\n",
    ">$$\\Rightarrow p(\\mathbf{x}|\\mathbf{y})=\\mathcal{N}(\\mathbf{a+BC}^{-1}(\\mathbf{y-b}),\\mathbf{A-BC}^{-1}\\mathbf{B}^T)$$"
   ]
  },
  {
   "cell_type": "markdown",
   "metadata": {},
   "source": [
    "## 2.2. Gaussian Process\n",
    "\n",
    "* **Definition:**\n",
    "\n",
    ">* A **Gaussian Process** is a collection of random variables, any finite number of which have (consistent) Gaussian distributions\n",
    ">* It is fully specified by the **mean function** $\\mathcal{m}(\\mathcal{x})$ and **covariance function** $\\mathcal{k}(x,x')$\n",
    ">\n",
    ">$$f \\; \\text{~} \\; \\mathcal{GP}(m,k)$$\n",
    "\n",
    "* **Marginalisation Property:**\n",
    "\n",
    ">$$p(\\mathbf{x})=\\mathcal{N}(\\mathbf{a,A})$$\n",
    "\n",
    "* **Sequential Generation:**\n",
    "\n",
    ">$$p(f_n,f_{<n})= \\mathcal{N} \\left( \\begin{bmatrix} \\mathbf{a} \\\\ \\mathbf{b} \\end{bmatrix} , \\begin{bmatrix} \\mathbf{A} & \\mathbf{B} \\\\ \\mathbf{B}^T & \\mathbf{C} \\end{bmatrix} \\right)$$\n",
    ">$$\\;$$\n",
    "\n",
    ">$$p(f_n|f_{<n})=\\mathcal{N}(\\mathbf{a+BC}^{-1}(f_{<n}-\\mathbf{b}),\\mathbf{A-BC}^{-1}\\mathbf{B}^T)$$"
   ]
  },
  {
   "cell_type": "markdown",
   "metadata": {},
   "source": [
    "## 2.3. Non-Parametric Gaussian Process Models\n",
    "\n",
    "* In non-parametric model, the **parameters** are the function itself\n",
    "* **Gaussian Likelihood:**\n",
    "\n",
    ">$$p(\\mathbf{y}|\\mathbf{x},f,\\mathcal{M}_i) \\;\\text{~}\\; \\mathcal{N}(\\mathbf{f},\\sigma^2_{noise}\\mathbf{I})$$\n",
    "\n",
    "* **Gaussian Process Prior:**\n",
    "\n",
    ">$$p(f|\\mathcal{M}_i) \\;\\text{~}\\; \\mathcal{GP}(m \\equiv 0,k)$$\n",
    "\n",
    "* **Gaussian Process Posterior:**\n",
    "\n",
    ">$$p(f|\\mathbf{x},\\mathbf{y},\\mathcal{M}_i) \\;\\text{~}\\; \\mathcal{GP}(m_{post},k_{post})$$\n",
    ">$$\\;$$\n",
    ">\\begin{align}\n",
    "m_{post}(x)&=\\mathbf{k}(x,\\mathbf{x})[K(\\mathbf{x},\\mathbf{x})+\\sigma^2_{noise}\\mathbf{I}]^{-1}\\mathbf{y}\\\\\n",
    "k_{post}(x,x')&=k(x,x')-\\mathbf{k}(x,\\mathbf{x})[K(\\mathbf{x},\\mathbf{x})+\\sigma^2_{noise}\\mathbf{I}]^{-1}\\mathbf{k}(\\mathbf{x},x')\n",
    "\\end{align}\n",
    "\n",
    "* **Gaussian Predictive:**\n",
    "\n",
    ">$$p(y_*|x_*,\\mathbf{x},\\mathbf{y},\\mathcal{M}_i) \\;\\text{~}\\; \\mathcal{N}\\left(\\mathbf{k}(x_*,\\mathbf{x})^T[K+\\sigma^2_{noise}\\mathbf{I}]^{-1}\\mathbf{y}\\\\,k(x_*,x_*)-\\mathbf{k}(x_*,\\mathbf{x})^T[K+\\sigma^2_{noise}\\mathbf{I}]^{-1}\\mathbf{k}(x_*,\\mathbf{x})\\right)$$\n",
    "\n",
    "* **Mean:** Linear in 2 Ways\n",
    "\n",
    ">$$\\mathbf{k}(x_*,\\mathbf{x})^T[K(\\mathbf{x},\\mathbf{x})+\\sigma^2_{noise}\\mathbf{I}]^{-1}\\mathbf{y}=\\sum^{N}_{n=1}{\\beta_n y_n}=\\sum^{N}_{n=1}{\\alpha_nk(x_*,x_n)}$$\n",
    "\n",
    "* **Variance:** Difference between 2 Terms\n",
    "\n",
    ">$$k(x_*,x_*)-\\mathbf{k}(x_*,\\mathbf{x})^T[K+\\sigma^2_{noise}\\mathbf{I}]^{-1}\\mathbf{k}(x_*,\\mathbf{x})$$\n",
    ">* 1st term: **prior variance**\n",
    ">* 2nd term: **how much the data $x$ has explained**\n",
    ">* **NOTE:** the variance is independent of the observed outputs $\\mathbf{y}$\n"
   ]
  },
  {
   "cell_type": "markdown",
   "metadata": {},
   "source": [
    "## 2.4. GP Marginal Likelihood and Hyperparameters"
   ]
  },
  {
   "cell_type": "markdown",
   "metadata": {},
   "source": [
    "## 2.5. Linear in the Parameters Models and GP"
   ]
  },
  {
   "cell_type": "markdown",
   "metadata": {},
   "source": [
    "## 2.6. Finite and Infinite Basis GPs"
   ]
  },
  {
   "cell_type": "code",
   "execution_count": null,
   "metadata": {},
   "outputs": [],
   "source": []
  },
  {
   "cell_type": "code",
   "execution_count": null,
   "metadata": {},
   "outputs": [],
   "source": []
  }
 ],
 "metadata": {
  "kernelspec": {
   "display_name": "Python 3",
   "language": "python",
   "name": "python3"
  },
  "language_info": {
   "codemirror_mode": {
    "name": "ipython",
    "version": 3
   },
   "file_extension": ".py",
   "mimetype": "text/x-python",
   "name": "python",
   "nbconvert_exporter": "python",
   "pygments_lexer": "ipython3",
   "version": "3.6.4"
  }
 },
 "nbformat": 4,
 "nbformat_minor": 2
}
