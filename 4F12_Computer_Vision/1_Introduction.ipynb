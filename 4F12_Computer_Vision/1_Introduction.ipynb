{
 "cells": [
  {
   "cell_type": "markdown",
   "metadata": {},
   "source": [
    "# 1. Introduction"
   ]
  },
  {
   "cell_type": "markdown",
   "metadata": {},
   "source": [
    "## 1.1. What is Computer Vision?\n",
    ">$$\\textbf{Images of a real scene} \\rightarrow \\textbf{Useful information (3R's)}$$\n",
    ">\n",
    ">$$\\text{Images} \\rightarrow \\text{Representation}$$\n",
    ">\n",
    ">$$\\text{Perception} \\rightarrow \\text{Actions}$$\n",
    "\n",
    ">* **3R's**: Registration, Recognition, and Reconstruction\n",
    ">* It is different from **Image Processing** or **Pattern Recognition**\n",
    ">* **Applications**: autonomous vehicles, medical diagnosis, augmented reality, face recognition, ..."
   ]
  },
  {
   "cell_type": "markdown",
   "metadata": {},
   "source": [
    "## 1.2. Human Eye vs. Camera\n",
    ">* The numbers are rough estimate\n",
    "\n",
    ">||Human Eye|Typical CCD|\n",
    "|-|-|-|\n",
    "|Measures|$1000\\text{ mm}^2$|$24\\text{ mm }\\times16\\text{ mm }$|\n",
    "|No. of Sensors|$2 \\text{ Eyes}$|$1 \\text{ CCD Sensor}$|\n",
    "|Sampling Elements|$10^8\\text{ rods, and } 10^6\\text{ cones}$|$6\\times10^6 \\text{ pixels}$|\n",
    "|Spatial Resolution|$0.01^\\text{o} \\text{ over } 150^\\text{o} \\text{ field of view}$|$\\text{Lens-dependent}$|\n",
    "|Temporal Resolution|$100\\text{ ms}$|$40\\text{ ms}$|\n",
    "|Intensity Resolution|$11\\text{ bits/element}$|$8\\text{ bits/element for each colour channel}$|\n",
    "|Spectral Resolution|$2\\text{ bits/element}$|$8\\text{ bits/element for each colour channel}$|\n",
    "|Data Rate|$3\\text{GB/s}$|$400\\text{MB/s}$|"
   ]
  },
  {
   "cell_type": "markdown",
   "metadata": {},
   "source": [
    "## 1.3. Problems in Computer Vision\n",
    "\n",
    ">**1. Image Formation**\n",
    ">  * Many-to-one mapping, Encodes nothing about the depth\n",
    ">  * The inverse imaging problem has no unique solution\n",
    "\n",
    ">**2. Vision as Information Processing**\n",
    ">  * Images $\\rightarrow$ Generic salient features $\\rightarrow$ Representations and Actions\n",
    ">  * $10 \\text{ MB/s} \\rightarrow 10 \\text{ KB/s} \\rightarrow 1\\text{~}10\\text{ bits/s}$ (Data reduction process)\n",
    "\n",
    ">**3. Feature Extraction**\n",
    ">  * Reduce the data content while preserving the useful information (e.g. **Edge & Corner**)\n",
    "\n",
    ">**4. Camera Models**\n",
    ">  * Account for the camera position, perspective projection, and CCD imaging\n",
    ">  * Predict how known objects will appear in an image $\\rightarrow$ **Object recognition**\n",
    "\n",
    ">**5. Stereo Vision**\n",
    ">  * Two cameras $\\rightarrow$ Match the two images (**Correspondence problem**) $\\rightarrow$ Obtain depth\n",
    ">  * Possible to infer information even when the cameras are **not calibrated**\n",
    "\n",
    ">**6. Structure from Motion**\n",
    ">  * Camera moves $\\rightarrow$ Track features $\\rightarrow$ Infer the structures in the scene & the motion of camera\n",
    ">  * Sensitive to independently moving objects\n",
    "\n",
    ">**7. Shape from Texture**\n",
    ">  * Assume **homogeneous** or **isotropic** texture $\\rightarrow$ infer the orientation of surfaces\n",
    "\n",
    ">**8. Shape from Line Drawing**\n",
    "\n",
    ">**9. Shape from Contour**\n",
    ">  * Each **apparent contour** defines a set of **tangent planes** from the camera to the surface\n",
    ">  * Analyse the deformation of the apparent contours in the image $\\rightarrow$ Infer the shape\n",
    "\n",
    ">**10. Shape from Shading**\n",
    ">  * Assume Lambertian light source, isotropic surface reflectance, and a top-lit scene $\\rightarrow$ Infer the shape"
   ]
  }
 ],
 "metadata": {
  "kernelspec": {
   "display_name": "Python 3",
   "language": "python",
   "name": "python3"
  },
  "language_info": {
   "codemirror_mode": {
    "name": "ipython",
    "version": 3
   },
   "file_extension": ".py",
   "mimetype": "text/x-python",
   "name": "python",
   "nbconvert_exporter": "python",
   "pygments_lexer": "ipython3",
   "version": "3.6.4"
  }
 },
 "nbformat": 4,
 "nbformat_minor": 2
}
