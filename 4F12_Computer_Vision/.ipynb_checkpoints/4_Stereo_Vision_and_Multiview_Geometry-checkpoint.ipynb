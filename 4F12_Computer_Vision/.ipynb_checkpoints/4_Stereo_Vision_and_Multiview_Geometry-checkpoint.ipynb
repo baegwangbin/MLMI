{
 "cells": [
  {
   "cell_type": "markdown",
   "metadata": {},
   "source": [
    "# 4. Stereo Vision and Multiview Geometry\n",
    "\n",
    ">* Two calibrated cameras $\\rightarrow$ **2 rays** $\\rightarrow$ **recover 3D location**\n",
    "* Q. To what extent do we need to calibrate the cameras?\n",
    "* Q. How do we establish correspondences between features?\n",
    "\n"
   ]
  },
  {
   "cell_type": "markdown",
   "metadata": {},
   "source": [
    "## 4.1. Rays\n",
    "* $\\mathbf{p}$: point where the ray pierces the image plane (in camera-centered coordinates)\n",
    "\n",
    ">$$\\mathbf{p} = \\begin{bmatrix} x \\\\ y \\\\ f \\end{bmatrix}$$\n",
    "\n",
    "\n",
    ">$$\\begin{bmatrix} u \\\\ v \\\\ 1 \\end{bmatrix} = \\begin{bmatrix} k_u & 0 & u_0/f \\\\ 0 & k_v & v_0/f \\\\ 0 & 0 & 1/f \\end{bmatrix} \\begin{bmatrix} x \\\\ y \\\\ f \\end{bmatrix}$$\n",
    "\n",
    ">$$\\text{K} = \\begin{bmatrix} fk_u & 0 & u_0 \\\\ 0 & fk_v & v_0 \\\\ 0 & 0 & 1 \\end{bmatrix} \\;\\;\\; \\Rightarrow \\;\\;\\; \\tilde{\\mathbf{w}}=\\text{K}\\mathbf{p}$$"
   ]
  },
  {
   "cell_type": "markdown",
   "metadata": {},
   "source": [
    "## 4.2. Epipolar Geometry\n",
    "\n",
    "><img src = \"images\\image15.png\" width=400>\n",
    "\n",
    ">* **Epipolar constraints**: the two lines must intersect (constrain the search to line)\n",
    "\n",
    ">* **Epipolar line**: image of the ray from the other camera's optical centre to $\\mathbf{X}$\n",
    "\n",
    ">* For different $\\mathbf{X}$:\n",
    ">  * **Epipolar plane**: rotates about the baseline\n",
    ">  * **Epipolar lines**: intersect at the epipole"
   ]
  },
  {
   "cell_type": "markdown",
   "metadata": {},
   "source": [
    "## 4.3. Epipolar Constraint\n",
    "\n",
    ">$$\\mathbf{X}'_c=\\text{R}\\mathbf{X}_c+\\mathbf{T}$$\n",
    "\n",
    ">$$\\mathbf{T}\\times\\mathbf{X}'_c=\\mathbf{T}\\times\\text{R}\\mathbf{X}_c$$\n",
    "\n",
    ">$$\\mathbf{X}'_c\\cdot( \\mathbf{T}\\times\\mathbf{X}'_c)=\\mathbf{X}'_c \\cdot (\\mathbf{T}\\times\\text{R}\\mathbf{X}_c)=0$$\n",
    "\n",
    ">$$\\mathbf{T}\\times = \\text{T}_{\\times} = \\begin{bmatrix} 0 & -T_z & T_y \\\\ T_z & 0 & -T_x \\\\ -T_y & T_x & 0 \\end{bmatrix}$$\n",
    "\n",
    ">$$\\mathbf{X}'_c\\cdot(\\text{T}_{\\times}\\text{R}\\mathbf{X}_c)=0 \\Leftrightarrow \\mathbf{X}^{'T}_c \\text{E}\\mathbf{X}_c=0 \\;\\;\\;\\;\\; \\text{where} \\;\\;\\;\\;\\; \\text{E}=\\text{T}_\\times \\text{R}$$\n",
    "\n",
    ">* $\\mathbf{E}$: **Essential Matrix**\n",
    ">* **Epipolar constraint** - When we observe $\\mathbf{p}$ in one image, $\\mathbf{p'}$ must lie on:\n",
    "\n",
    ">$$\\mathbf{p'}^T\\text{E}\\mathbf{p}=0$$"
   ]
  },
  {
   "cell_type": "markdown",
   "metadata": {},
   "source": [
    "## 4.4. Find Epipoles with Essential Matrix \n",
    "\n",
    "><img src = \"images\\image16.png\" width=400>\n",
    "\n",
    "* **Coordinate of Epipole $\\mathbf{p}_e$:**\n",
    "\n",
    ">$$\\lambda \\mathbf{T} = \\text{R}\\mathbf{p}_e+\\mathbf{T}$$\n",
    "\n",
    ">$$\\mathbf{T} \\times (\\lambda \\mathbf{T}) = \\mathbf{T} \\times (\\text{R}\\mathbf{p}_e+\\mathbf{T})$$\n",
    "\n",
    ">$$\\mathbf{0} = \\text{E}\\mathbf{p}_e$$\n",
    "\n",
    ">* Epipole lies in the null space of $\\text{E}$\n",
    ">* $\\text{E}$ is non-invertible $\\rightarrow$ maximum rank 2\n",
    ">* Similarly, $\\text{E}^T\\mathbf{p}'_e=\\mathbf{0}$\n"
   ]
  },
  {
   "cell_type": "markdown",
   "metadata": {},
   "source": [
    "## 4.5. Fundamental Matrix\n",
    "\n",
    "* **Definition:**\n",
    "\n",
    ">\\begin{align}\n",
    "\\mathbf{p'}^T\\text{E}\\mathbf{p} &= 0 \\;\\;\\; \\text{and} \\;\\;\\; \\tilde{\\mathbf{w}}=\\text{K}\\mathbf{p} \\\\\n",
    "\\tilde{\\mathbf{w}}'^T\\text{K}'^{-T}\\text{EK}^{-1}\\tilde{\\mathbf{w}} &= 0 \\\\\n",
    "\\tilde{\\mathbf{w}}'^T\\text{F}\\tilde{\\mathbf{w}} &= 0 \\;\\;\\; \\text{where} \\;\\;\\; \\text{F=K}'^{-T}\\text{EK}^{-1}\n",
    "\\end{align}\n",
    "\n",
    ">* From $\\tilde{\\mathbf{w}}$ and $\\text{F}$ $\\rightarrow$ Obtain epipolar constraint on $\\tilde{\\mathbf{w}}'$ in the other image\n",
    "\n",
    "* **Location of the epipoles:**\n",
    "\n",
    ">\\begin{align}\n",
    "\\text{E}\\mathbf{p}_e &= \\mathbf{0} \\\\\n",
    "\\Leftrightarrow \\text{EK}^{-1}\\tilde{\\mathbf{w}}_e &= \\mathbf{0} \\\\\n",
    "\\Leftrightarrow \\text{K}'^{-T}\\text{EK}^{-1}\\tilde{\\mathbf{w}}_e &= \\mathbf{0} \\\\\n",
    "\\Leftrightarrow \\text{F}\\tilde{\\mathbf{w}}_e &= \\mathbf{0} \\;\\;\\; \\text{and} \\;\\;\\; \\text{F}^T\\tilde{\\mathbf{w}}'_e = \\mathbf{0}\n",
    "\\end{align}\n",
    "\n",
    ">* $\\text{F}$ has **7** dof (scale doesn't matter & has zero determinant)\n",
    "\n",
    "* **Compute $\\text{F}$ from correspondences**\n",
    "\n",
    ">$$1 \\text{ constraint:} \\;\\;\\; \\begin{bmatrix} u' & v' & 1\\end{bmatrix} \\begin{bmatrix} f_{11} & f_{12} & f_{13} \\\\ f_{21} & f_{22} & f_{23} \\\\ f_{31} & f_{32} & f_{33} \\end{bmatrix} \\begin{bmatrix} u \\\\ v \\\\ 1\\end{bmatrix}=0$$\n",
    "\n",
    ">$$n \\text{ constraints:} \\;\\;\\; \\begin{bmatrix} u'_1u_1 & u'_1v_1 & u'_1 & v'_1u_1 & v'_1v_1 & v'_1 & u_1 & v_1 & 1 \\\\ \\vdots & \\vdots & \\vdots & \\vdots & \\vdots & \\vdots & \\vdots & \\vdots & \\vdots \\\\ u'_nu_n & u'_nv_n & u'_n & v'_nu_n & v'_nv_n & v'_n & u_n & v_n & 1 \\end{bmatrix} \\begin{bmatrix} f_{11} \\\\ f_{12} \\\\ f_{13} \\\\ f_{21} \\\\ f_{22} \\\\ f_{23} \\\\ f_{31} \\\\ f_{32} \\\\ f_{33} \\end{bmatrix} = \\mathbf{0}$$\n",
    "\n",
    "* **Note:**\n",
    "\n",
    ">* Noisy correspondences $\\rightarrow$ $\\text{det F}=0$ is not satisfied\n",
    ">  * Use non-linear technique to estimate $\\text{F}$ from 7 correspondences\n",
    ">* Given $\\text{F}$ and $\\text{K}$ $\\rightarrow$ find $\\text{E}$ $\\rightarrow$ decompose into $\\text{T}_\\times$ and $\\text{R}$ $\\rightarrow$ recover metric structure by triangulation\n",
    ">  * Without $\\text{K}$ $\\rightarrow$ recover up to a 3D projective transformation $\\rightarrow$ disambiguate with further constraints"
   ]
  },
  {
   "cell_type": "markdown",
   "metadata": {},
   "source": [
    "## 4.6. Correspondence Problem\n",
    "\n",
    "* **Constraints:**\n",
    "\n",
    ">1. **Uniqueness:** points on opaque surface $\\rightarrow$ at most one match\n",
    ">2. **Ordering:** points on opaque surface $\\rightarrow$ ordered identically - May not be true if **(1)** the points do not lie on the same object or **(2)** the points lie on the **forbidden zone**\n",
    ">3. **Figural continuity** \n",
    ">4. **Disparity gradient** disparities must be locally smooth\n",
    "\n",
    "* **Finding Correspondences:**\n",
    "\n",
    ">1. **Unguided matching:** small no. of seed matches (normalised cross-correlation)\n",
    ">2. **Compute epipolar geometry:** compute $\\text{F}$ (consistent with inliers) \n",
    ">3. **Guided matching:** epipolar lines & other constraints (e.g. ordering)\n"
   ]
  },
  {
   "cell_type": "markdown",
   "metadata": {},
   "source": [
    "## 4.7. Recovering Metric Structure\n",
    "\n",
    "* **SVD of $\\text{E}$:**\n",
    "\n",
    ">$$\\text{E}=\\text{K}'^T\\text{FK}=\\text{T}_\\times\\text{R}=\\text{U}\\Lambda\\text{V}^T$$\n",
    "\n",
    ">$$\\hat{\\text{T}}_\\times=\\text{U} \\begin{bmatrix} 0&1&0\\\\-1&0&0\\\\0&0&0 \\end{bmatrix} \\text{U}^T \\;\\;\\; \\text{and} \\;\\;\\; \\text{R}=\\text{U} \\begin{bmatrix} 0&-1&0\\\\1&0&0\\\\0&0&1 \\end{bmatrix} \\text{V}^T$$\n",
    "\n",
    "* **Align the left camera and world coordinate:**\n",
    "\n",
    ">$$\\text{P}=\\text{K}[\\text{ I }|\\;\\mathbf{0}\\;] \\;\\;\\; \\text{and} \\;\\;\\; \\text{P}'=\\text{K}'[\\text{R}|\\textbf{T}]$$\n",
    "\n",
    ">* $\\text{P}$ and $\\text{P}'$ $\\rightarrow$ recover structure (only up to scale)\n",
    ">  * Ambiguities in $\\textbf{T}$ and $\\text{R}$ are resolved by ensuring that visible points lie **in front of the two cameras**\n",
    ">* Structure is recovered only at the detected corners\n",
    ">  * To reconstruct more of the scene, use dense, intensity-based matching\n",
    ">  * The recovered 3D points are then triangulated, and the visual appearance of the model improved by mapping texture from the images onto the model"
   ]
  },
  {
   "cell_type": "markdown",
   "metadata": {},
   "source": [
    "## 4.8. Projective Reconstruction\n",
    "\n",
    "* **Factorization of $\\text{F}$:**\n",
    "\n",
    ">* Factorize $\\text{F}$ into:\n",
    ">  * skew-symmetric matrix (translation)\n",
    ">  * $3\\times3$ non-singular matrix (rotation)\n",
    "\n",
    ">\\begin{align}\n",
    "\\text{F} &= \\text{K}'^T[\\mathbf{t}]_\\times \\text{RK}^{-1} \\\\\n",
    "&= [\\text{K}'\\mathbf{t}]_\\times \\text{K}'\\text{RK}^{-1} \\\\\n",
    "&= [\\mathbf{e}']_\\times \\text{M}_\\infty\n",
    "\\end{align}\n",
    "\n",
    ">* $\\text{M}_\\infty$: 2D projective transformation induced by the plane at infinity\n",
    ">* **Projective ambiguity**: any $\\text{M}$ of the following form will give same $\\text{F}$\n",
    "\n",
    ">$$\\text{M} = [\\mathbf{e}']_\\times \\text{F} + \\mathbf{e}'\\mathbf{v}^T$$\n",
    "\n",
    "* **Projective reconstruction:**\n",
    "\n",
    ">\\begin{align}\n",
    "\\textbf{PH}           &= [\\textbf{ I }|\\textbf{ 0 }] \\\\\n",
    "\\textbf{P}'\\textbf{H} &= [\\textbf{M}|\\;\\mathbf{ e}'] \\\\\n",
    "\\textbf{H}            &= \\begin{bmatrix} \\mathbf{sR_w} & \\mathbf{t_w} \\\\ \\mathbf{0}^T & 1 \\end{bmatrix} \\begin{bmatrix} \\mathbf{K}^{-1} & \\mathbf{0} \\\\ \\mathbf{0}^T & 1 \\end{bmatrix} \\begin{bmatrix} \\mathbf{I} & \\mathbf{0} \\\\ \\mathbf{v}^T & 1 \\end{bmatrix} \n",
    "\\end{align}\n",
    "\n",
    ">* This ambiguity can be removed with:\n",
    ">  * additional info. derived from scene constraints\n",
    ">  * knowledge of the camera parameters ($\\text{K}$ and $\\text{K}'$\n",
    ">  * 3D position of 5 known scene points to determine $\\textbf{H}$ or $\\textbf{H}^{-1}$ (complete removal)\n",
    "\n"
   ]
  },
  {
   "cell_type": "markdown",
   "metadata": {},
   "source": [
    "## 4.9. Affine Stereo\n",
    "\n",
    "* **Two calibrated affine cameras:**\n",
    "\n",
    ">$$\\begin{bmatrix} u \\\\ v \\\\ u' \\\\ v' \\end{bmatrix} = \\begin{bmatrix} p_{11}&p_{12}&p_{13}&p_{14} \\\\ p_{21}&p_{22}&p_{23}&p_{24} \\\\ p'_{11}&p'_{12}&p'_{13}&p'_{14} \\\\ p'_{21}&p'_{22}&p'_{23}&p'_{24} \\end{bmatrix} \\begin{bmatrix} X \\\\ Y \\\\ Z \\\\ 1 \\end{bmatrix}$$\n",
    "\n",
    ">* Each point in left and right images $\\rightarrow$ 4 equations for 3 unknowns (solve with least squares)\n",
    "\n",
    "* **Epipolar constraint for affine stereo:**\n",
    "\n",
    ">$$\\begin{bmatrix} u \\\\ v \\end{bmatrix} = \\begin{bmatrix} p_{11}&0&0&p_{14} \\\\ 0&p_{22}&0&p_{24} \\end{bmatrix} \\begin{bmatrix} X \\\\ Y \\\\ Z \\\\ 1 \\end{bmatrix}$$\n",
    "\n",
    ">\\begin{align}\n",
    "\\mathbf{w}' &= \\begin{bmatrix} u' \\\\ v' \\end{bmatrix} \\\\\n",
    "&= \\begin{bmatrix} p'_{11}\\frac{(u-p_{14})}{p_{11}} + p'_{12}\\frac{(v-p_{24})}{p_{22}} + p'_{14} \\\\ p'_{21}\\frac{(u-p_{14})}{p_{11}} + p'_{22}\\frac{(v-p_{24})}{p_{22}} + p'_{24} \\end{bmatrix} + Z \\begin{bmatrix} p'_{13} \\\\ p'_{23} \\end{bmatrix} \\\\\n",
    "\\mathbf{a} + Z\\mathbf{b}\n",
    "\\end{align}\n",
    "\n",
    ">* Given $\\mathbf{w}$ in one image $\\rightarrow$ obtain $\\mathbf{a}$ and $\\mathbf{b}$ $\\rightarrow$ $\\mathbf{w}'$ must lie on the epipolar line in the right image\n",
    ">* $\\mathbf{b}$: independent of $\\mathbf{w}$ $\\rightarrow$ all epipolar lines are parallel under affine stereo\n",
    "\n",
    "* **Relationship between $(u,v)$ and $(u',v')$ in weak perspective:**\n",
    "\n",
    ">$$\\begin{bmatrix} u' & v' & 1 \\end{bmatrix} F_A \\begin{bmatrix} u \\\\ v \\\\ 1 \\end{bmatrix} = 0 \\;\\;\\;\\text{where}\\;\\;\\; F_A = \\begin{bmatrix} 0&0&a \\\\ 0&0&b \\\\ c&d&1 \\end{bmatrix}$$\n",
    "\n",
    ">* Epipolar lines under weak perspective are parallel"
   ]
  }
 ],
 "metadata": {
  "kernelspec": {
   "display_name": "Python 3",
   "language": "python",
   "name": "python3"
  },
  "language_info": {
   "codemirror_mode": {
    "name": "ipython",
    "version": 3
   },
   "file_extension": ".py",
   "mimetype": "text/x-python",
   "name": "python",
   "nbconvert_exporter": "python",
   "pygments_lexer": "ipython3",
   "version": "3.6.8"
  }
 },
 "nbformat": 4,
 "nbformat_minor": 2
}
